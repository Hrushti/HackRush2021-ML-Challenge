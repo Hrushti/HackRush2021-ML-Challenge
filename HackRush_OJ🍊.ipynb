import numpy as np # linear algebra
import pandas as pd # data processing, CSV file I/O (e.g. pd.read_csv)
import os


X=[]
# for row in dfObj.T.iteritems():
for i in range(1,10440):
  file_name = "/kaggle/input/hackrush2021/Processed_Individual_Datasets/Processed_Individual_Datasets/Train/Processed_IN_Data_" + str(i) + ".csv"
  table = pd.read_csv(file_name, header = None)
  
  channel1=[]
  row0 = table.iloc[0,:]
  #row0.astype(str).astype(float)
  channel1+=row0.tolist()
    
  row1 = table.iloc[1,:] 
  #row1.astype(str).astype(float)
  channel1+=row1.tolist()
    
  row2 = table.iloc[2,:] 
  #row2.astype(str).astype(float)
  channel1+=row2.tolist()
    
  row3 = table.iloc[3,:]
  #row3.astype(str).astype(float)
  channel1+=row3.tolist()
    
  row4 = table.iloc[4,:] 
  #row4.astype(str).astype(float)
  channel1+=row4.tolist()
    
  X.append(channel1)


output_train = pd.read_csv("/kaggle/input/hackrush2021/IN_Digit_Dataset_train.csv")
#print(type(output_train.digit))
#print("Hi")
y = output_train.digit.tolist()
Y = y[:10439]

# Y_series = pd.Series(Y)
# X_series = pd.Series(X)
from pandas import DataFrame
X_df = DataFrame(X)
Y_df = DataFrame(Y)

# print(X_df.dtypes)
# print(type(X_df))
# print(X_series.shape)
# print(Y_series.shape)

# print(X_series)
# print(Y_series)
# #X_series.astype('float64',copy = True)

from sklearn.model_selection import train_test_split
X_train, X_valid, y_train, y_valid = train_test_split(X_df, Y_df, random_state = 0)




#from sklearn.metrics import mean_absolute_error
#predictions = my_model.predict(X_valid)
#print("Mean Absolute Error: " + str(mean_absolute_error(predictions, y_valid)))

from xgboost import XGBRegressor

my_model = XGBRegressor(n_estimators=1000, learning_rate=0.01, n_jobs=7)
my_model.fit(X_train, y_train,early_stopping_rounds=7,eval_set=[(X_valid, y_valid)], verbose = False)

X_test=[]
# for row in dfObj.T.iteritems():
for i in range(10440,13051):
  file_name = "/kaggle/input/hackrush2021/Processed_Individual_Datasets/Processed_Individual_Datasets/Test/Processed_IN_Data_" + str(i) + ".csv"
  table = pd.read_csv(file_name, header = None)
  #print(table)

  channel1=[]
  row0 = table.iloc[0,:]  
  channel1 += row0.tolist()
    
  row1 = table.iloc[1,:]  
  channel1 += row1.tolist()
    
  row2 = table.iloc[2,:]  
  channel1 += row2.tolist()
    
  row3 = table.iloc[3,:]  
  channel1 += row3.tolist()
    
  row4 = table.iloc[4,:]  
  channel1 += row4.tolist()
    
  X_test.append(channel1)

X_test_df = DataFrame(X_test)
digit_preds_test = my_model.predict(X_test_df)
row_index = range(10440,13051)
predicted_data = [int(item) for item in digit_preds_test.tolist()]
#print("Predicted data")
#print(predicted_data)
output = pd.DataFrame({'row_id': row_index,
                       'digit': predicted_data})
#print("Describing output")
#output.describe()
#print(output)
output.to_csv('your_submission.csv', index=False)
